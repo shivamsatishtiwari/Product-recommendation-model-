{
 "cells": [
  {
   "cell_type": "markdown",
   "id": "82301bce",
   "metadata": {},
   "source": [
    "# DATA CLEANING"
   ]
  },
  {
   "cell_type": "code",
   "execution_count": null,
   "id": "66d2481b",
   "metadata": {},
   "outputs": [],
   "source": [
    "import  pandas as pd \n",
    "df = pd.read_csv(\"shopping_behavior.csv\")\n",
    "df"
   ]
  },
  {
   "cell_type": "code",
   "execution_count": null,
   "id": "117f9d4d",
   "metadata": {},
   "outputs": [],
   "source": [
    "df['Review Rating']=df['Review Rating'].round().astype(int)\n",
    "df"
   ]
  },
  {
   "cell_type": "code",
   "execution_count": null,
   "id": "f896d574",
   "metadata": {},
   "outputs": [],
   "source": [
    "df.describe()"
   ]
  },
  {
   "cell_type": "code",
   "execution_count": null,
   "id": "848e6bf2",
   "metadata": {},
   "outputs": [],
   "source": [
    "df.info()\n"
   ]
  },
  {
   "cell_type": "code",
   "execution_count": null,
   "id": "7839dfd9",
   "metadata": {},
   "outputs": [],
   "source": [
    "category_of_columns=['Gender','Item Purchased','Category','Location','Size','Color','Season','Subscription Status','Shipping Type','Discount Applied','Promo Code Used','Payment Method','Frequency of Purchases']\n",
    "for i in category_of_columns:\n",
    "    print(f\"\\n Unique values and count for {i}:/n{df[i].value_counts()}\")"
   ]
  },
  {
   "cell_type": "code",
   "execution_count": null,
   "id": "99b251e2",
   "metadata": {},
   "outputs": [],
   "source": [
    "mv=df.isnull().sum()\n",
    "mv"
   ]
  },
  {
   "cell_type": "code",
   "execution_count": null,
   "id": "1146d7ef",
   "metadata": {},
   "outputs": [],
   "source": [
    "import matplotlib.pyplot as plt\n"
   ]
  },
  {
   "cell_type": "code",
   "execution_count": null,
   "id": "5f20925b",
   "metadata": {},
   "outputs": [],
   "source": [
    "category_count=df['Category'].value_counts()\n",
    "category_count"
   ]
  },
  {
   "cell_type": "markdown",
   "id": "eee41c8c",
   "metadata": {},
   "source": [
    "# Exoloratory Data Analysis"
   ]
  },
  {
   "cell_type": "code",
   "execution_count": null,
   "id": "ce30404a",
   "metadata": {},
   "outputs": [],
   "source": [
    "category_count.plot(kind='bar',color='mediumorchid')\n",
    "plt.xlabel('Categories')\n",
    "plt.ylabel('Number of product sold')\n",
    "plt.title('Product sold per category')\n",
    "plt.show()"
   ]
  },
  {
   "cell_type": "code",
   "execution_count": null,
   "id": "2cef2943",
   "metadata": {},
   "outputs": [],
   "source": [
    "item_and_season=df.groupby(['Item Purchased','Season']).size()\n",
    "print(item_and_season)"
   ]
  },
  {
   "cell_type": "code",
   "execution_count": null,
   "id": "fdcb1a51",
   "metadata": {},
   "outputs": [],
   "source": [
    "item_and_season=item_and_season.unstack()\n",
    "print(item_and_season)"
   ]
  },
  {
   "cell_type": "code",
   "execution_count": null,
   "id": "53c61082",
   "metadata": {},
   "outputs": [],
   "source": [
    "item_and_season.isnull().sum()"
   ]
  },
  {
   "cell_type": "code",
   "execution_count": null,
   "id": "6368fe33",
   "metadata": {},
   "outputs": [],
   "source": [
    "colors={'Fall':'Teal','Spring':'orange','Summer':'red','Winter':'cyan'}"
   ]
  },
  {
   "cell_type": "code",
   "execution_count": null,
   "id": "d7e8ad7b",
   "metadata": {},
   "outputs": [],
   "source": [
    "item_and_season.plot(kind='bar',stacked='true',colormap='viridis',color=[colors[season]for season in item_and_season.columns])\n",
    "plt.xlabel(\"ITEM PURCHASED\")\n",
    "plt.ylabel(\"COUNT OF CUSTOMERS\")\n",
    "plt.title(\"count of Item sold per season\")"
   ]
  },
  {
   "cell_type": "code",
   "execution_count": null,
   "id": "7fcc3134",
   "metadata": {},
   "outputs": [],
   "source": [
    "filter_season=input(\"enter the season you want to visualize \")\n",
    "filter_condition=(df['Season']==filter_season)\n",
    "filtered_df=df[filter_condition]"
   ]
  },
  {
   "cell_type": "code",
   "execution_count": null,
   "id": "6f599d58",
   "metadata": {},
   "outputs": [],
   "source": [
    "item_and_season=filtered_df.groupby(['Item Purchased','Season']).size().unstack()\n",
    "item_and_season.plot(kind='bar',stacked='true',colormap='viridis',color=[colors[season]for season in item_and_season.columns])\n",
    "plt.xlabel(\"ITEM PURCHASED\")\n",
    "plt.ylabel(\"COUNT OF CUSTOMERS\")\n",
    "plt.title(\"count of Item sold per season\")\n",
    "plt.show()"
   ]
  },
  {
   "cell_type": "markdown",
   "id": "351415a8",
   "metadata": {},
   "source": [
    "# Recommendation System "
   ]
  },
  {
   "cell_type": "code",
   "execution_count": null,
   "id": "a47f3d6a",
   "metadata": {},
   "outputs": [],
   "source": [
    "from colorama import Fore, Style\n",
    "from surprise import Dataset,Reader, SVD\n",
    "from surprise.model_selection import train_test_split\n",
    "reader = Reader(rating_scale=(1, 5))\n",
    "\n",
    "\n",
    "unique_rating=sorted(df['Review Rating'].unique())\n",
    "unique_rating"
   ]
  },
  {
   "cell_type": "code",
   "execution_count": null,
   "id": "629338df",
   "metadata": {},
   "outputs": [],
   "source": [
    "surprise_data=Dataset.load_from_df(df[['Customer ID','Item Purchased','Review Rating']],reader)\n",
    "\n",
    "trainset,testset=train_test_split(surprise_data,test_size=0.2,random_state=1)\n",
    "\n",
    "model=SVD()\n",
    "\n",
    "model.fit(trainset)"
   ]
  },
  {
   "cell_type": "code",
   "execution_count": null,
   "id": "5c9a0ce1",
   "metadata": {},
   "outputs": [],
   "source": [
    "while True :\n",
    "    try:\n",
    "        customer_identification_code=int(input('Enter your ID please : '))\n",
    "        if customer_identification_code in df['Customer ID'].unique():\n",
    "            break\n",
    "        else :\n",
    "            print(f\"{Fore.YELLOW}INVALID ID{Style.RESET_ALL}\")\n",
    "    except ValueError:\n",
    "        print(f\"{Fore.RED}Invalid input. Please enter a valid integer.{Fore.RED}\")"
   ]
  },
  {
   "cell_type": "code",
   "execution_count": null,
   "id": "e7f2b13a",
   "metadata": {},
   "outputs": [],
   "source": [
    "products_user_rated=df[df['Customer ID']==customer_identification_code]['Item Purchased'].tolist()\n",
    "\n",
    "\n",
    "all_products=df['Item Purchased'].unique()\n",
    "\n",
    "unrated_products=set(all_products)-set(products_user_rated)\n",
    "\n",
    "user_predictions = [model.predict(customer_identification_code, product) for product in unrated_products]\n",
    "\n",
    "\n",
    "top_n=int(input('enter how many product recomendation you want '))\n",
    "recommended_products=sorted(user_predictions,key=lambda x: x.est,reverse=True)[:top_n]\n",
    "recommended_product_ids = [product.iid for product in recommended_products]"
   ]
  },
  {
   "cell_type": "code",
   "execution_count": null,
   "id": "148a515b",
   "metadata": {},
   "outputs": [],
   "source": [
    "print(f\"\\nTop{Fore.GREEN} {top_n} recommended products for Customer {customer_identification_code}: {recommended_product_ids}\")"
   ]
  }
 ],
 "metadata": {
  "kernelspec": {
   "display_name": "Python 3 (ipykernel)",
   "language": "python",
   "name": "python3"
  },
  "language_info": {
   "codemirror_mode": {
    "name": "ipython",
    "version": 3
   },
   "file_extension": ".py",
   "mimetype": "text/x-python",
   "name": "python",
   "nbconvert_exporter": "python",
   "pygments_lexer": "ipython3",
   "version": "3.11.5"
  }
 },
 "nbformat": 4,
 "nbformat_minor": 5
}
